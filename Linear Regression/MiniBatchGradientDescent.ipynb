{
 "cells": [
  {
   "cell_type": "code",
   "execution_count": 115,
   "metadata": {},
   "outputs": [],
   "source": [
    "import pandas as pd\n",
    "import numpy as np"
   ]
  },
  {
   "cell_type": "code",
   "execution_count": 116,
   "metadata": {},
   "outputs": [
    {
     "data": {
      "text/plain": [
       "((442, 10), (442,))"
      ]
     },
     "execution_count": 116,
     "metadata": {},
     "output_type": "execute_result"
    }
   ],
   "source": [
    "from sklearn.datasets import load_diabetes\n",
    "X,y = load_diabetes(return_X_y=True)\n",
    "X.shape, y.shape"
   ]
  },
  {
   "cell_type": "code",
   "execution_count": 117,
   "metadata": {},
   "outputs": [
    {
     "data": {
      "text/plain": [
       "10"
      ]
     },
     "execution_count": 117,
     "metadata": {},
     "output_type": "execute_result"
    }
   ],
   "source": [
    "from sklearn.model_selection import train_test_split\n",
    "X_train,X_test,y_train,y_test = train_test_split(X,y,test_size=0.2, random_state=2)\n",
    "X_train.shape[1]"
   ]
  },
  {
   "cell_type": "markdown",
   "metadata": {},
   "source": [
    "# Linear Reg model"
   ]
  },
  {
   "cell_type": "code",
   "execution_count": 118,
   "metadata": {},
   "outputs": [],
   "source": [
    "from sklearn.linear_model import LinearRegression\n",
    "reg = LinearRegression()\n",
    "reg.fit(X_train,y_train)\n",
    "y_pred = reg.predict(X_test)"
   ]
  },
  {
   "cell_type": "code",
   "execution_count": 119,
   "metadata": {},
   "outputs": [
    {
     "data": {
      "text/plain": [
       "43.99338661568968"
      ]
     },
     "execution_count": 119,
     "metadata": {},
     "output_type": "execute_result"
    }
   ],
   "source": [
    "from sklearn.metrics import r2_score\n",
    "r2_score(y_test,y_pred) *100"
   ]
  },
  {
   "cell_type": "code",
   "execution_count": 120,
   "metadata": {},
   "outputs": [
    {
     "name": "stdout",
     "output_type": "stream",
     "text": [
      "151.88331005254167\n",
      "[  -9.15865318 -205.45432163  516.69374454  340.61999905 -895.5520019\n",
      "  561.22067904  153.89310954  126.73139688  861.12700152   52.42112238]\n"
     ]
    }
   ],
   "source": [
    "print(reg.intercept_)\n",
    "print(reg.coef_)"
   ]
  },
  {
   "cell_type": "markdown",
   "metadata": {},
   "source": [
    "# Class"
   ]
  },
  {
   "cell_type": "code",
   "execution_count": 121,
   "metadata": {},
   "outputs": [
    {
     "data": {
      "text/plain": [
       "[58, 97, 70, 1, 53, 55, 60, 23, 89, 61]"
      ]
     },
     "execution_count": 121,
     "metadata": {},
     "output_type": "execute_result"
    }
   ],
   "source": [
    "import random\n",
    "random.sample(range(1,100),10)"
   ]
  },
  {
   "cell_type": "code",
   "execution_count": 122,
   "metadata": {},
   "outputs": [],
   "source": [
    "class MBGDRegressor:\n",
    "  def __init__(self, batch_size,learning_rate=0.01, epochs=100):\n",
    "    self.coef_ =None\n",
    "    self.intercept_ = None\n",
    "    self.lr = learning_rate\n",
    "    self.epochs = epochs\n",
    "    self.batch_size = batch_size\n",
    "\n",
    "  def fit(self,X_train,y_train):\n",
    "    self.coef_ = np.ones(X_train.shape[1])\n",
    "    self.intercept_ = 0\n",
    "\n",
    "    for i in range(self.epochs):\n",
    "      for j in range(int(X_train.shape[0]/self.batch_size)):\n",
    "        idx = random.sample(range(0,X_train.shape[0]), self.batch_size)\n",
    "\n",
    "        y_hat = self.intercept_ + np.dot(X_train[idx], self.coef_)\n",
    "        intercept_der = -2 * np.mean(y_train[idx] - y_hat)\n",
    "        self.intercept_ = self.intercept_ -(self.lr * intercept_der)\n",
    "\n",
    "        y_hat = self.intercept_ + np.dot(X_train[idx], self.coef_)\n",
    "        coef_der = -2 * np.dot((y_train[idx] - y_hat), X_train[idx] )\n",
    "        self.coef_ = self.coef_ - (self.lr * coef_der)\n",
    "\n",
    "    print(self.intercept_, self.coef_)\n",
    "  def predict(self,X_test):\n",
    "    return self.intercept_ + np.dot(X_test,self.coef_)"
   ]
  },
  {
   "cell_type": "code",
   "execution_count": 123,
   "metadata": {},
   "outputs": [
    {
     "name": "stdout",
     "output_type": "stream",
     "text": [
      "152.85080043304566 [  53.57126908  -58.94279718  343.71713983  253.6181038    21.91943316\n",
      "  -27.5601191  -165.07028195  121.22732638  319.73316047  138.27465743]\n"
     ]
    },
    {
     "data": {
      "text/plain": [
       "42.997138705495"
      ]
     },
     "execution_count": 123,
     "metadata": {},
     "output_type": "execute_result"
    }
   ],
   "source": [
    "mbgd = MBGDRegressor(batch_size=int(X_train.shape[0]/10) , learning_rate=0.01, epochs=50)\n",
    "mbgd.fit(X_train,y_train)\n",
    "y_pred = mbgd.predict(X_test)\n",
    "r2_score(y_test,y_pred) * 100"
   ]
  },
  {
   "cell_type": "markdown",
   "metadata": {},
   "source": [
    "# SGDRegressor class"
   ]
  },
  {
   "cell_type": "code",
   "execution_count": 124,
   "metadata": {},
   "outputs": [],
   "source": [
    "from sklearn.linear_model import SGDRegressor\n",
    "\n",
    "sgd = SGDRegressor(learning_rate='constant',eta0=0.1)\n",
    "batch_size = 35\n",
    "\n",
    "for i in range(100):\n",
    "    idx = random.sample(range(X_train.shape[0]),batch_size)\n",
    "    sgd.partial_fit(X_train[idx],y_train[idx])"
   ]
  },
  {
   "cell_type": "code",
   "execution_count": 125,
   "metadata": {},
   "outputs": [
    {
     "data": {
      "text/plain": [
       "0.4071381877182161"
      ]
     },
     "execution_count": 125,
     "metadata": {},
     "output_type": "execute_result"
    }
   ],
   "source": [
    "y_pred = sgd.predict(X_test)\n",
    "r2_score(y_test,y_pred)\n"
   ]
  },
  {
   "cell_type": "code",
   "execution_count": 126,
   "metadata": {},
   "outputs": [
    {
     "name": "stdout",
     "output_type": "stream",
     "text": [
      "[164.7109468]\n",
      "[  69.55576538  -68.55249052  351.68459016  243.70622785    7.33590113\n",
      "  -48.08596179 -164.86811807  117.30962084  326.91362192  127.15105178]\n"
     ]
    }
   ],
   "source": [
    "print(sgd.intercept_)\n",
    "print(sgd.coef_)\n"
   ]
  },
  {
   "cell_type": "code",
   "execution_count": null,
   "metadata": {},
   "outputs": [],
   "source": [
    "\n"
   ]
  }
 ],
 "metadata": {
  "kernelspec": {
   "display_name": "Python 3",
   "language": "python",
   "name": "python3"
  },
  "language_info": {
   "codemirror_mode": {
    "name": "ipython",
    "version": 3
   },
   "file_extension": ".py",
   "mimetype": "text/x-python",
   "name": "python",
   "nbconvert_exporter": "python",
   "pygments_lexer": "ipython3",
   "version": "3.12.2"
  }
 },
 "nbformat": 4,
 "nbformat_minor": 2
}
