{
 "cells": [
  {
   "cell_type": "code",
   "execution_count": 249,
   "metadata": {},
   "outputs": [],
   "source": [
    "import pandas as pd\n",
    "import numpy as np"
   ]
  },
  {
   "cell_type": "code",
   "execution_count": 250,
   "metadata": {},
   "outputs": [
    {
     "data": {
      "text/plain": [
       "((442, 10), (442,))"
      ]
     },
     "execution_count": 250,
     "metadata": {},
     "output_type": "execute_result"
    }
   ],
   "source": [
    "from sklearn.datasets import load_diabetes\n",
    "# data = load_diabetes()\n",
    "X,y= load_diabetes(return_X_y=True)\n",
    "X.shape,y.shape"
   ]
  },
  {
   "cell_type": "code",
   "execution_count": 251,
   "metadata": {},
   "outputs": [],
   "source": [
    "from sklearn.model_selection import train_test_split\n",
    "X_train,X_test,y_train,y_test = train_test_split(X,y,test_size=0.2,random_state=2)\n"
   ]
  },
  {
   "cell_type": "code",
   "execution_count": 252,
   "metadata": {},
   "outputs": [
    {
     "name": "stdout",
     "output_type": "stream",
     "text": [
      "(353, 10)\n",
      "(89, 10)\n",
      "[-0.00188202 -0.00914709  0.02354575 -0.02367725 -0.0382074   0.03807591\n",
      " -0.00914709  0.06713621 -0.08179786 -0.06000263  0.04534098  0.03807591\n",
      "  0.0090156  -0.09632802 -0.02367725  0.00538306  0.07076875  0.03444337\n",
      "  0.02354575 -0.0382074   0.11072668  0.07440129 -0.05273755  0.01991321\n",
      "  0.01628068 -0.0854304   0.01991321 -0.09996055  0.00538306  0.06713621\n",
      " -0.04183994  0.08166637 -0.04910502  0.06713621 -0.02730979 -0.01641217\n",
      " -0.02367725  0.01991321  0.01991321  0.01991321 -0.05637009 -0.00188202\n",
      "  0.0562386  -0.07816532  0.04534098 -0.05273755  0.08166637 -0.08906294\n",
      " -0.06000263  0.00538306  0.07440129  0.04897352 -0.02367725  0.02717829\n",
      " -0.00188202  0.06713621  0.03444337  0.06713621  0.00538306 -0.00914709\n",
      "  0.04897352 -0.06363517  0.03081083 -0.09269548  0.04170844  0.01264814\n",
      "  0.01991321 -0.00914709  0.01264814  0.04897352  0.00538306 -0.00188202\n",
      "  0.02717829 -0.02730979 -0.0854304   0.01628068 -0.05273755 -0.00188202\n",
      "  0.01628068  0.02354575 -0.05637009  0.05987114 -0.03094232  0.00175052\n",
      " -0.05637009 -0.10722563 -0.04183994  0.0090156   0.03081083 -0.07090025\n",
      "  0.00538306 -0.01277963  0.00175052 -0.00188202  0.02717829  0.00175052\n",
      "  0.01264814  0.04897352  0.04897352 -0.00551455 -0.08906294  0.03444337\n",
      "  0.04170844 -0.02730979  0.02717829 -0.06363517 -0.10722563  0.01628068\n",
      " -0.06363517  0.01264814  0.0090156  -0.09632802  0.04534098  0.06350368\n",
      " -0.01277963 -0.09996055  0.04534098  0.02717829  0.0090156  -0.02367725\n",
      " -0.00188202  0.03081083  0.0090156  -0.00188202  0.01991321  0.0090156\n",
      "  0.11072668 -0.03457486 -0.02730979 -0.04910502  0.00538306  0.01628068\n",
      " -0.02730979  0.05987114  0.04534098  0.02354575  0.04534098  0.06713621\n",
      "  0.00538306 -0.02004471 -0.07453279 -0.03457486 -0.05637009 -0.04547248\n",
      "  0.08166637  0.01264814 -0.06000263 -0.01641217  0.0562386   0.06350368\n",
      " -0.04547248 -0.01641217  0.03081083  0.01628068 -0.00188202 -0.02004471\n",
      " -0.05273755  0.04534098  0.01264814  0.06713621  0.04534098 -0.04910502\n",
      " -0.01641217 -0.0382074  -0.00914709 -0.01641217  0.01264814 -0.02004471\n",
      "  0.04170844  0.01628068  0.07440129 -0.09269548  0.04534098  0.01991321\n",
      "  0.02354575  0.04170844  0.0090156  -0.04183994  0.04897352 -0.10359309\n",
      "  0.02354575 -0.03094232 -0.07453279 -0.07453279  0.00175052  0.01628068\n",
      "  0.07076875  0.04170844 -0.10359309  0.03807591 -0.07090025  0.02717829\n",
      "  0.06713621  0.00175052 -0.00551455  0.01264814  0.06713621 -0.04183994\n",
      "  0.04897352 -0.00914709  0.08893144 -0.05273755  0.04897352 -0.02730979\n",
      "  0.02354575  0.02717829  0.03444337  0.02717829  0.04170844 -0.06000263\n",
      " -0.02730979 -0.02004471 -0.00551455  0.04534098 -0.0854304   0.07440129\n",
      "  0.01264814 -0.00188202  0.0090156   0.09619652  0.00538306 -0.05637009\n",
      "  0.05260606 -0.04183994 -0.07816532  0.01264814 -0.08906294 -0.07453279\n",
      " -0.01277963 -0.00551455 -0.03457486  0.05260606  0.04170844  0.07076875\n",
      " -0.03457486  0.0090156  -0.02004471 -0.02730979 -0.02730979  0.03807591\n",
      " -0.02367725 -0.00914709  0.06713621  0.04897352 -0.06726771 -0.06000263\n",
      "  0.02354575  0.03444337 -0.02367725  0.04534098 -0.01277963 -0.03094232\n",
      "  0.07440129  0.06350368  0.08166637 -0.07090025  0.03081083  0.01991321\n",
      " -0.04910502  0.00538306  0.09619652 -0.00551455 -0.02730979 -0.06000263\n",
      " -0.02730979  0.00175052  0.04170844 -0.02004471 -0.02730979 -0.00551455\n",
      " -0.04183994  0.01264814 -0.04547248  0.03081083 -0.04183994 -0.02730979\n",
      " -0.07090025  0.04534098  0.04170844  0.00538306  0.01628068  0.01628068\n",
      "  0.06713621  0.03444337  0.03081083 -0.03094232 -0.10722563  0.07076875\n",
      "  0.01991321  0.0562386  -0.0382074   0.00538306 -0.04547248  0.04170844\n",
      " -0.07453279  0.01264814 -0.07453279 -0.04183994 -0.08179786  0.06713621\n",
      "  0.03807591 -0.09269548 -0.05273755 -0.04183994  0.0090156   0.04897352\n",
      "  0.03081083  0.01628068  0.03444337  0.03444337 -0.05273755  0.07076875\n",
      " -0.02367725  0.06350368  0.09256398 -0.0854304   0.01264814 -0.02367725\n",
      " -0.05273755 -0.00188202  0.07076875  0.00175052  0.01628068  0.04170844\n",
      "  0.03081083 -0.00188202  0.03807591  0.05987114 -0.04910502  0.04170844\n",
      " -0.09269548  0.02717829  0.07076875 -0.07090025  0.04897352 -0.00551455\n",
      " -0.01641217 -0.04183994  0.04534098  0.01991321 -0.07816532  0.00175052\n",
      " -0.05637009 -0.07090025 -0.05273755 -0.07453279  0.01628068 -0.00914709\n",
      "  0.03807591 -0.0854304   0.06350368 -0.05273755  0.00175052]\n"
     ]
    }
   ],
   "source": [
    "print(X_train.shape)\n",
    "print(X_test.shape)\n",
    "print(X_train[:,0])"
   ]
  },
  {
   "cell_type": "markdown",
   "metadata": {},
   "source": [
    "# Linear reg model"
   ]
  },
  {
   "cell_type": "code",
   "execution_count": 253,
   "metadata": {},
   "outputs": [],
   "source": [
    "from sklearn.linear_model import LinearRegression\n",
    "reg = LinearRegression()\n",
    "reg.fit(X_train,y_train)\n",
    "y_pred = reg.predict(X_test)"
   ]
  },
  {
   "cell_type": "code",
   "execution_count": 254,
   "metadata": {},
   "outputs": [
    {
     "name": "stdout",
     "output_type": "stream",
     "text": [
      "0.4399338661568968\n"
     ]
    }
   ],
   "source": [
    "from sklearn.metrics import r2_score\n",
    "r2 = r2_score(y_test,y_pred)\n",
    "print(r2)"
   ]
  },
  {
   "cell_type": "code",
   "execution_count": 255,
   "metadata": {},
   "outputs": [
    {
     "name": "stdout",
     "output_type": "stream",
     "text": [
      "151.88331005254167\n",
      "[  -9.15865318 -205.45432163  516.69374454  340.61999905 -895.5520019\n",
      "  561.22067904  153.89310954  126.73139688  861.12700152   52.42112238]\n"
     ]
    }
   ],
   "source": [
    "print(reg.intercept_)\n",
    "print(reg.coef_)"
   ]
  },
  {
   "cell_type": "markdown",
   "metadata": {},
   "source": [
    "# Creating own class for Batch Gradient Descent"
   ]
  },
  {
   "cell_type": "code",
   "execution_count": 256,
   "metadata": {},
   "outputs": [],
   "source": [
    "class GDRegressor:\n",
    "  def __init__(self,learning_rate=0.01,epochs=100):\n",
    "    self.coef_ =None\n",
    "    self.intercept_ =None\n",
    "    self.lr = learning_rate\n",
    "    self.epochs = epochs\n",
    "  \n",
    "  def fit(self,X_train,y_train):\n",
    "    self.intercept_ = 0\n",
    "    self.coef_ = np.ones(X_train.shape[1])\n",
    "    for i in range(self.epochs):\n",
    "      y_hat = self.intercept_ + np.dot(X_train,self.coef_)      # y_hat = (353,1)     # X_train = (353,10)        # self.coef_ = (10,1)\n",
    "      # print(y_hat.shape)\n",
    "      intercept_der = -2 * np.mean(y_train - y_hat)             # y_train = (353,1)   # intercept_der = scalar   \n",
    "      self.intercept_ = self.intercept_ - (self.lr * intercept_der)       # self.intercept_ = scalar\n",
    "      # print(self.intercept_)\n",
    "      # print(np.sum(y_train - y_hat) / X_train.shape[0])\n",
    "      # print(np.mean(y_train - y_hat) )\n",
    "      \n",
    "      # for beta1\n",
    "      # slope1 = -2 * np.dot((y_train - y_hat), X_train[:,0])  / X_train.shape[0] \n",
    "      # print(self.coef_[0] - (self.lr * slope1) )\n",
    "\n",
    "      y_hat = self.intercept_ + np.dot(X_train, self.coef_)\n",
    "      coef_der = -2 * np.dot((y_train - y_hat),X_train) / X_train.shape[0]      # ceof_der = (10,1)    # y_train = (1,353)     # y_hat = (353,1)     # X_train = (353,10) \n",
    "      self.coef_ = self.coef_ - (self.lr * coef_der)                            # self.coef_ = (10,1)\n",
    "      # print(self.coef_)\n",
    "\n",
    "    # print(self.coef_[0])\n",
    "    print(self.intercept_,self.coef_)\n",
    "  def predict(self,X_test):\n",
    "    return self.intercept_ + np.dot(X_test,self.coef_)"
   ]
  },
  {
   "cell_type": "code",
   "execution_count": 257,
   "metadata": {},
   "outputs": [
    {
     "name": "stdout",
     "output_type": "stream",
     "text": [
      "150.6113385811849 [  8.94202188   2.68434614  22.16015446  17.38560416   8.48381378\n",
      "   6.88112908 -12.55328403  15.2472108   21.86948456  13.76726624]\n"
     ]
    }
   ],
   "source": [
    "gd = GDRegressor(epochs=10, learning_rate=0.5)\n",
    "gd.fit(X_train,y_train)\n",
    "y_pred = gd.predict(X_test)"
   ]
  },
  {
   "cell_type": "code",
   "execution_count": 258,
   "metadata": {},
   "outputs": [
    {
     "name": "stdout",
     "output_type": "stream",
     "text": [
      "0.052406156634638434\n"
     ]
    }
   ],
   "source": [
    "y_pred\n",
    "r2 = r2_score(y_test,y_pred)\n",
    "print(r2)"
   ]
  },
  {
   "cell_type": "code",
   "execution_count": null,
   "metadata": {},
   "outputs": [],
   "source": []
  }
 ],
 "metadata": {
  "kernelspec": {
   "display_name": "Python 3",
   "language": "python",
   "name": "python3"
  },
  "language_info": {
   "codemirror_mode": {
    "name": "ipython",
    "version": 3
   },
   "file_extension": ".py",
   "mimetype": "text/x-python",
   "name": "python",
   "nbconvert_exporter": "python",
   "pygments_lexer": "ipython3",
   "version": "3.12.2"
  }
 },
 "nbformat": 4,
 "nbformat_minor": 2
}
