{
 "cells": [
  {
   "cell_type": "code",
   "execution_count": 275,
   "metadata": {},
   "outputs": [],
   "source": [
    "import matplotlib.pyplot as plt\n",
    "import pandas as pd\n",
    "import numpy as np\n",
    "from sklearn.model_selection import train_test_split\n",
    "from sklearn.linear_model import LinearRegression\n",
    "from sklearn.metrics import accuracy_score"
   ]
  },
  {
   "cell_type": "markdown",
   "metadata": {},
   "source": [
    "# Reading csv File"
   ]
  },
  {
   "cell_type": "code",
   "execution_count": 276,
   "metadata": {},
   "outputs": [
    {
     "data": {
      "text/html": [
       "<div>\n",
       "<style scoped>\n",
       "    .dataframe tbody tr th:only-of-type {\n",
       "        vertical-align: middle;\n",
       "    }\n",
       "\n",
       "    .dataframe tbody tr th {\n",
       "        vertical-align: top;\n",
       "    }\n",
       "\n",
       "    .dataframe thead th {\n",
       "        text-align: right;\n",
       "    }\n",
       "</style>\n",
       "<table border=\"1\" class=\"dataframe\">\n",
       "  <thead>\n",
       "    <tr style=\"text-align: right;\">\n",
       "      <th></th>\n",
       "      <th>cgpa</th>\n",
       "      <th>package</th>\n",
       "    </tr>\n",
       "  </thead>\n",
       "  <tbody>\n",
       "    <tr>\n",
       "      <th>112</th>\n",
       "      <td>8.58</td>\n",
       "      <td>4.1</td>\n",
       "    </tr>\n",
       "  </tbody>\n",
       "</table>\n",
       "</div>"
      ],
      "text/plain": [
       "     cgpa  package\n",
       "112  8.58      4.1"
      ]
     },
     "execution_count": 276,
     "metadata": {},
     "output_type": "execute_result"
    }
   ],
   "source": [
    "df = pd.read_csv('..\\\\Datasets\\\\placement.csv')\n",
    "df.sample()"
   ]
  },
  {
   "cell_type": "markdown",
   "metadata": {},
   "source": [
    "# Scatter plot to see the linear nature of given data"
   ]
  },
  {
   "cell_type": "code",
   "execution_count": 277,
   "metadata": {},
   "outputs": [
    {
     "data": {
      "image/png": "[encoded data removed]",
      "text/plain": [
       "<Figure size 640x480 with 1 Axes>"
      ]
     },
     "metadata": {},
     "output_type": "display_data"
    }
   ],
   "source": [
    "plt.scatter(x=df['cgpa'], y=df['package'])\n",
    "plt.xlabel('cgpa')\n",
    "plt.ylabel('package')\n",
    "plt.show()"
   ]
  },
  {
   "cell_type": "markdown",
   "metadata": {},
   "source": [
    "# Slicing for feature; dataframe, and selecting for label; series"
   ]
  },
  {
   "cell_type": "code",
   "execution_count": 278,
   "metadata": {},
   "outputs": [
    {
     "name": "stdout",
     "output_type": "stream",
     "text": [
      "<class 'pandas.core.frame.DataFrame'>\n",
      "<class 'pandas.core.series.Series'>\n"
     ]
    }
   ],
   "source": [
    "X = df.iloc[:,0:1]    # fit method demands Feature to be dataframe even if it contains only one column\n",
    "y = df.iloc[:,1]\n",
    "print(type(X))\n",
    "print(type(y))"
   ]
  },
  {
   "cell_type": "markdown",
   "metadata": {},
   "source": [
    "# Selection returns Series"
   ]
  },
  {
   "cell_type": "code",
   "execution_count": 279,
   "metadata": {},
   "outputs": [],
   "source": [
    "# X = df['cgpa']\n",
    "# y = df['package']\n",
    "# print(type(X))\n",
    "# print(type(y))"
   ]
  },
  {
   "cell_type": "markdown",
   "metadata": {},
   "source": [
    "# Train test split"
   ]
  },
  {
   "cell_type": "code",
   "execution_count": 280,
   "metadata": {},
   "outputs": [
    {
     "data": {
      "text/plain": [
       "pandas.core.frame.DataFrame"
      ]
     },
     "execution_count": 280,
     "metadata": {},
     "output_type": "execute_result"
    }
   ],
   "source": [
    "X_train,X_test,y_train,y_test = train_test_split(X,y, test_size=0.2, random_state=2)\n",
    "type(X_train)"
   ]
  },
  {
   "cell_type": "markdown",
   "metadata": {},
   "source": [
    "# Simple LR model training and prediction"
   ]
  },
  {
   "cell_type": "code",
   "execution_count": 281,
   "metadata": {},
   "outputs": [
    {
     "name": "stdout",
     "output_type": "stream",
     "text": [
      "[4.1  3.49 2.08 2.33 1.94 1.48 1.86 3.09 4.21 2.87 3.65 4.   2.89 2.6\n",
      " 2.99 3.25 1.86 3.67 2.37 3.42 2.48 3.65 2.6  2.83 4.08 2.56 3.58 3.81\n",
      " 4.09 2.01 3.63 2.92 3.51 1.94 2.21 3.34 3.34 3.23 2.01 2.61]\n",
      "[3.89111601 3.09324469 2.38464568 2.57434935 1.6537286  1.77647803\n",
      " 2.07219258 2.93143862 3.76278706 2.93701814 4.09197872 3.51170867\n",
      " 2.97049525 2.40138424 3.18809652 3.46707251 1.94386362 3.24389172\n",
      " 2.97607477 3.41685683 2.55761079 3.16577844 2.85890486 3.12114229\n",
      " 3.68467378 2.8700639  3.49497011 3.34432308 3.91901361 1.96060218\n",
      " 3.65119666 3.2104146  3.74046898 2.7863711  2.78079158 3.27178932\n",
      " 3.52844723 2.61340599 2.65804215 2.71383735]\n",
      "[[8.58]\n",
      " [7.15]\n",
      " [5.88]\n",
      " [6.22]\n",
      " [4.57]\n",
      " [4.79]\n",
      " [5.32]\n",
      " [6.86]\n",
      " [8.35]\n",
      " [6.87]\n",
      " [8.94]\n",
      " [7.9 ]\n",
      " [6.93]\n",
      " [5.91]\n",
      " [7.32]\n",
      " [7.82]\n",
      " [5.09]\n",
      " [7.42]\n",
      " [6.94]\n",
      " [7.73]\n",
      " [6.19]\n",
      " [7.28]\n",
      " [6.73]\n",
      " [7.2 ]\n",
      " [8.21]\n",
      " [6.75]\n",
      " [7.87]\n",
      " [7.6 ]\n",
      " [8.63]\n",
      " [5.12]\n",
      " [8.15]\n",
      " [7.36]\n",
      " [8.31]\n",
      " [6.6 ]\n",
      " [6.59]\n",
      " [7.47]\n",
      " [7.93]\n",
      " [6.29]\n",
      " [6.37]\n",
      " [6.47]]\n"
     ]
    }
   ],
   "source": [
    "lr = LinearRegression()\n",
    "lr.fit(X_train,y_train)\n",
    "y_pred = lr.predict(X_test)     # predict method returns a numpy array\n",
    "print(pd.Series.to_numpy(y_test))     # Series to numpy array\n",
    "print(y_pred)\n",
    "print(pd.DataFrame.to_numpy(X_test))"
   ]
  },
  {
   "cell_type": "markdown",
   "metadata": {},
   "source": [
    "# Predicting individual values"
   ]
  },
  {
   "cell_type": "code",
   "execution_count": 282,
   "metadata": {},
   "outputs": [
    {
     "name": "stdout",
     "output_type": "stream",
     "text": [
      "cgpa    8.58\n",
      "Name: 112, dtype: float64\n",
      "<class 'pandas.core.series.Series'>\n",
      "[8.58]\n",
      "<class 'numpy.ndarray'>\n",
      "     cgpa\n",
      "112  8.58\n",
      "29   7.15\n",
      "182  5.88\n",
      "199  6.22\n",
      "193  4.57\n",
      "<class 'pandas.core.frame.DataFrame'>\n",
      "[[8.58]\n",
      " [7.15]\n",
      " [5.88]\n",
      " [6.22]\n",
      " [4.57]]\n",
      "<class 'numpy.ndarray'>\n"
     ]
    }
   ],
   "source": [
    "print(X_test.iloc[0])   # selection returns Series  \n",
    "print(type(X_test.iloc[0]))\n",
    "\n",
    "print(X_test.iloc[0].values)    # returns a numpy array\n",
    "print(type(X_test.iloc[0].values))\n",
    "\n",
    "print(X_test.iloc[0:5])   # slicing returns dataframe\n",
    "print(type(X_test.iloc[0:5]))\n",
    "\n",
    "print(X_test.iloc[0:5].values)    # returns a numpy array\n",
    "print(type(X_test.iloc[0:5].values))\n"
   ]
  },
  {
   "cell_type": "code",
   "execution_count": 283,
   "metadata": {},
   "outputs": [
    {
     "name": "stderr",
     "output_type": "stream",
     "text": [
      "C:\\Users\\Acer1\\AppData\\Roaming\\Python\\Python312\\site-packages\\sklearn\\base.py:493: UserWarning: X does not have valid feature names, but LinearRegression was fitted with feature names\n",
      "  warnings.warn(\n",
      "C:\\Users\\Acer1\\AppData\\Roaming\\Python\\Python312\\site-packages\\sklearn\\base.py:493: UserWarning: X does not have valid feature names, but LinearRegression was fitted with feature names\n",
      "  warnings.warn(\n"
     ]
    },
    {
     "data": {
      "text/plain": [
       "array([3.89111601])"
      ]
     },
     "execution_count": 283,
     "metadata": {},
     "output_type": "execute_result"
    }
   ],
   "source": [
    "lr.predict(X_test.iloc[1].values.reshape(1,1))    # predict method demands a dataframe\n",
    "# lr.predict(X_test.iloc[[1]].values)\n",
    "(lr.predict([[8.58]]))"
   ]
  },
  {
   "cell_type": "markdown",
   "metadata": {},
   "source": [
    "# Best fit line"
   ]
  },
  {
   "cell_type": "code",
   "execution_count": 284,
   "metadata": {},
   "outputs": [
    {
     "data": {
      "image/png": "[encoded data removed]",
      "text/plain": [
       "<Figure size 640x480 with 1 Axes>"
      ]
     },
     "metadata": {},
     "output_type": "display_data"
    }
   ],
   "source": [
    "plt.scatter(df['cgpa'], df['package'])\n",
    "# plt.scatter(X_train, lr.predict(X_train), color ='red')\n",
    "plt.plot(X_train, lr.predict(X_train), color ='red')\n",
    "plt.xlabel('cgpa')\n",
    "plt.ylabel('package')\n",
    "plt.show()"
   ]
  },
  {
   "cell_type": "markdown",
   "metadata": {},
   "source": [
    "# Values m & b"
   ]
  },
  {
   "cell_type": "code",
   "execution_count": 285,
   "metadata": {},
   "outputs": [
    {
     "data": {
      "text/plain": [
       "(array([0.55795197]), -0.8961119222429144)"
      ]
     },
     "execution_count": 285,
     "metadata": {},
     "output_type": "execute_result"
    }
   ],
   "source": [
    "m = lr.coef_\n",
    "b = lr.intercept_\n",
    "m,b"
   ]
  },
  {
   "cell_type": "markdown",
   "metadata": {},
   "source": [
    "# Manual calculation"
   ]
  },
  {
   "cell_type": "code",
   "execution_count": 286,
   "metadata": {},
   "outputs": [
    {
     "data": {
      "text/plain": [
       "array([3.89111601])"
      ]
     },
     "execution_count": 286,
     "metadata": {},
     "output_type": "execute_result"
    }
   ],
   "source": [
    "# y=mx+b\n",
    "m * 8.58 + b"
   ]
  }
 ],
 "metadata": {
  "kernelspec": {
   "display_name": "Python 3",
   "language": "python",
   "name": "python3"
  },
  "language_info": {
   "codemirror_mode": {
    "name": "ipython",
    "version": 3
   },
   "file_extension": ".py",
   "mimetype": "text/x-python",
   "name": "python",
   "nbconvert_exporter": "python",
   "pygments_lexer": "ipython3",
   "version": "3.12.2"
  }
 },
 "nbformat": 4,
 "nbformat_minor": 2
}
