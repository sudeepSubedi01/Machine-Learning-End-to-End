{
 "cells": [
  {
   "cell_type": "code",
   "execution_count": 1,
   "metadata": {},
   "outputs": [],
   "source": [
    "import numpy as np\n",
    "import pandas as pd"
   ]
  },
  {
   "cell_type": "code",
   "execution_count": 25,
   "metadata": {},
   "outputs": [
    {
     "name": "stdout",
     "output_type": "stream",
     "text": [
      "<class 'pandas.core.frame.DataFrame'>\n",
      "RangeIndex: 50 entries, 0 to 49\n",
      "Data columns (total 3 columns):\n",
      " #   Column     Non-Null Count  Dtype \n",
      "---  ------     --------------  ----- \n",
      " 0   review     50 non-null     object\n",
      " 1   education  50 non-null     object\n",
      " 2   purchased  50 non-null     object\n",
      "dtypes: object(3)\n",
      "memory usage: 1.3+ KB\n"
     ]
    }
   ],
   "source": [
    "df = pd.read_csv('..\\\\Datasets\\\\customer.csv')\n",
    "df = df.drop(['age','gender'],axis=1)\n",
    "# df.sample(5)\n",
    "df.info()"
   ]
  },
  {
   "cell_type": "markdown",
   "metadata": {},
   "source": [
    "# Train Test Split"
   ]
  },
  {
   "cell_type": "code",
   "execution_count": 42,
   "metadata": {},
   "outputs": [
    {
     "name": "stdout",
     "output_type": "stream",
     "text": [
      "33    Yes\n",
      "35    Yes\n",
      "26     No\n",
      "34     No\n",
      "18     No\n",
      "7     Yes\n",
      "14    Yes\n",
      "45    Yes\n",
      "48    Yes\n",
      "29    Yes\n",
      "15     No\n",
      "30     No\n",
      "32    Yes\n",
      "16    Yes\n",
      "42    Yes\n",
      "20    Yes\n",
      "43     No\n",
      "8      No\n",
      "13     No\n",
      "25     No\n",
      "5     Yes\n",
      "17    Yes\n",
      "40     No\n",
      "49     No\n",
      "1      No\n",
      "12     No\n",
      "37    Yes\n",
      "24    Yes\n",
      "6      No\n",
      "23     No\n",
      "36    Yes\n",
      "21     No\n",
      "19    Yes\n",
      "9     Yes\n",
      "39     No\n",
      "46     No\n",
      "3      No\n",
      "0      No\n",
      "47    Yes\n",
      "44     No\n",
      "Name: purchased, dtype: object\n"
     ]
    }
   ],
   "source": [
    "from sklearn.model_selection import train_test_split\n",
    "X_train,X_test,y_train,y_test = train_test_split(df.iloc[:,0:2],df.iloc[:,-1] ,test_size=0.2,random_state=0)\n",
    "# X_train.shape,X_test.shape\n",
    "# X_train.head()\n",
    "# print(df['review'].unique())\n",
    "# print(df['education'].unique())\n",
    "# print(y_train)"
   ]
  },
  {
   "cell_type": "markdown",
   "metadata": {},
   "source": [
    "# Ordinal Encoder"
   ]
  },
  {
   "cell_type": "code",
   "execution_count": 30,
   "metadata": {},
   "outputs": [],
   "source": [
    "from sklearn.preprocessing import OrdinalEncoder\n",
    "oe = OrdinalEncoder(categories=[['Poor','Average','Good'],['School','UG','PG']])\n",
    "oe.fit(X_train)\n",
    "X_train_encoded = oe.transform(X_train)\n",
    "X_test_encoded = oe.transform(X_test)\n",
    "X_train_encoded = pd.DataFrame(X_train_encoded,columns=X_train.columns)\n",
    "X_test_encoded = pd.DataFrame(X_test_encoded,columns=X_train.columns)"
   ]
  },
  {
   "cell_type": "code",
   "execution_count": 41,
   "metadata": {},
   "outputs": [
    {
     "name": "stdout",
     "output_type": "stream",
     "text": [
      "     review education\n",
      "33     Good        PG\n",
      "35     Poor    School\n",
      "26     Poor        PG\n",
      "34  Average    School\n",
      "18     Good    School\n",
      "   review  education\n",
      "0     2.0        2.0\n",
      "1     0.0        0.0\n",
      "2     0.0        2.0\n",
      "3     1.0        0.0\n",
      "4     2.0        0.0\n",
      "<class 'pandas.core.series.Series'>\n"
     ]
    }
   ],
   "source": [
    "print(X_train.head())\n",
    "print(X_train_encoded.head())"
   ]
  },
  {
   "cell_type": "markdown",
   "metadata": {},
   "source": [
    "# Label Encoder"
   ]
  },
  {
   "cell_type": "code",
   "execution_count": 43,
   "metadata": {},
   "outputs": [],
   "source": [
    "from sklearn.preprocessing import LabelEncoder\n",
    "le = LabelEncoder()\n",
    "le.fit(y_train)\n",
    "y_train_encoded = le.transform(y_train)\n",
    "y_test_encoded = le.transform(y_test)"
   ]
  },
  {
   "cell_type": "code",
   "execution_count": 45,
   "metadata": {},
   "outputs": [
    {
     "name": "stdout",
     "output_type": "stream",
     "text": [
      "['Yes' 'Yes' 'No' 'No' 'No' 'Yes' 'Yes' 'Yes' 'Yes' 'Yes' 'No' 'No' 'Yes'\n",
      " 'Yes' 'Yes' 'Yes' 'No' 'No' 'No' 'No' 'Yes' 'Yes' 'No' 'No' 'No' 'No'\n",
      " 'Yes' 'Yes' 'No' 'No' 'Yes' 'No' 'Yes' 'Yes' 'No' 'No' 'No' 'No' 'Yes'\n",
      " 'No']\n",
      "[1 1 0 0 0 1 1 1 1 1 0 0 1 1 1 1 0 0 0 0 1 1 0 0 0 0 1 1 0 0 1 0 1 1 0 0 0\n",
      " 0 1 0]\n"
     ]
    }
   ],
   "source": [
    "print(np.array(y_train))\n",
    "print(y_train_encoded)"
   ]
  },
  {
   "cell_type": "code",
   "execution_count": null,
   "metadata": {},
   "outputs": [],
   "source": []
  }
 ],
 "metadata": {
  "kernelspec": {
   "display_name": "Python 3",
   "language": "python",
   "name": "python3"
  },
  "language_info": {
   "codemirror_mode": {
    "name": "ipython",
    "version": 3
   },
   "file_extension": ".py",
   "mimetype": "text/x-python",
   "name": "python",
   "nbconvert_exporter": "python",
   "pygments_lexer": "ipython3",
   "version": "3.12.2"
  }
 },
 "nbformat": 4,
 "nbformat_minor": 2
}
