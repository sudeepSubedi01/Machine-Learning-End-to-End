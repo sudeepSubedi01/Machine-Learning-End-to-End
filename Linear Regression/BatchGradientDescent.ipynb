{
 "cells": [
  {
   "cell_type": "code",
   "execution_count": 49,
   "metadata": {},
   "outputs": [],
   "source": [
    "import pandas as pd\n",
    "import numpy as np"
   ]
  },
  {
   "cell_type": "code",
   "execution_count": 50,
   "metadata": {},
   "outputs": [
    {
     "data": {
      "text/plain": [
       "((442, 10), (442,))"
      ]
     },
     "execution_count": 50,
     "metadata": {},
     "output_type": "execute_result"
    }
   ],
   "source": [
    "from sklearn.datasets import load_diabetes\n",
    "# data = load_diabetes()\n",
    "X,y= load_diabetes(return_X_y=True)\n",
    "X.shape,y.shape"
   ]
  },
  {
   "cell_type": "code",
   "execution_count": 51,
   "metadata": {},
   "outputs": [
    {
     "data": {
      "text/plain": [
       "(353, 10)"
      ]
     },
     "execution_count": 51,
     "metadata": {},
     "output_type": "execute_result"
    }
   ],
   "source": [
    "from sklearn.model_selection import train_test_split\n",
    "X_train,X_test,y_train,y_test = train_test_split(X,y,test_size=0.2,random_state=2)\n",
    "X_train.shape"
   ]
  },
  {
   "cell_type": "code",
   "execution_count": 52,
   "metadata": {},
   "outputs": [],
   "source": [
    "from sklearn.linear_model import LinearRegression\n",
    "reg = LinearRegression()\n",
    "reg.fit(X_train,y_train)\n",
    "y_pred = reg.predict(X_test)"
   ]
  },
  {
   "cell_type": "code",
   "execution_count": 53,
   "metadata": {},
   "outputs": [
    {
     "name": "stdout",
     "output_type": "stream",
     "text": [
      "0.4399338661568968\n"
     ]
    }
   ],
   "source": [
    "from sklearn.metrics import r2_score\n",
    "r2 = r2_score(y_test,y_pred)\n",
    "print(r2)"
   ]
  },
  {
   "cell_type": "code",
   "execution_count": 54,
   "metadata": {},
   "outputs": [
    {
     "name": "stdout",
     "output_type": "stream",
     "text": [
      "151.88331005254167\n",
      "[  -9.15865318 -205.45432163  516.69374454  340.61999905 -895.5520019\n",
      "  561.22067904  153.89310954  126.73139688  861.12700152   52.42112238]\n"
     ]
    }
   ],
   "source": [
    "print(reg.intercept_)\n",
    "print(reg.coef_)"
   ]
  },
  {
   "cell_type": "markdown",
   "metadata": {},
   "source": [
    "# Creating own class"
   ]
  },
  {
   "cell_type": "code",
   "execution_count": 55,
   "metadata": {},
   "outputs": [],
   "source": [
    "class GDRegressor:\n",
    "  def __init__(self,learning_rate=0.01,epochs=100):\n",
    "    self.coef_ =None\n",
    "    self.intercept_ =None\n",
    "    self.lr = learning_rate\n",
    "    self.epochs = epochs\n",
    "  \n",
    "  def fit(self,X_train,y_train):\n",
    "    self.intercept_ = 0\n",
    "    self.coef_ = np.ones(X_train.shape[1])\n",
    "    for i in range(self.epochs):\n",
    "      y_hat = self.intercept_ + np.dot(X_train,self.coef_)      # y_hat = (353,1)     # X_train = (353,10)        # self.coef_ = (10,1)\n",
    "      # print(y_hat.shape)\n",
    "      intercept_der = -2 * np.mean(y_train - y_hat)             # y_train = (353,1)   # intercept_der = (353,1)   # \n",
    "      self.intercept_ = self.intercept_ - (self.lr * intercept_der)       # self.intercept_ = (353,1)\n",
    "      # print(self.intercept_)\n",
    "\n",
    "      y_hat = self.intercept_ + np.dot(X_train, self.coef_)\n",
    "      coef_der = -2 * np.dot((y_train - y_hat),X_train) / X_train.shape[0]      # ceof_def = (10,1)    # y_train = (353,1)     # y_hat = (353,1)     # X_train = (353,10) \n",
    "      self.coef_ = self.coef_ - (self.lr * coef_der)                            # self.coef_ = (1,10)\n",
    "      # print(self.coef_)\n",
    "\n",
    "    # print(self.intercept_,self.coef_)\n",
    "  def predict(self,X_test):\n",
    "    return self.intercept_ + np.dot(X_test,self.coef_)"
   ]
  },
  {
   "cell_type": "code",
   "execution_count": 56,
   "metadata": {},
   "outputs": [],
   "source": [
    "gd = GDRegressor(epochs=1000, learning_rate=0.5)\n",
    "gd.fit(X_train,y_train)\n",
    "y_pred = gd.predict(X_test)"
   ]
  },
  {
   "cell_type": "code",
   "execution_count": 57,
   "metadata": {},
   "outputs": [
    {
     "name": "stdout",
     "output_type": "stream",
     "text": [
      "-0.0028629880068460345\n"
     ]
    }
   ],
   "source": [
    "y_pred\n",
    "r2 = r2_score(y_test,y_pred)\n",
    "print(r2)"
   ]
  },
  {
   "cell_type": "code",
   "execution_count": null,
   "metadata": {},
   "outputs": [],
   "source": []
  }
 ],
 "metadata": {
  "kernelspec": {
   "display_name": "Python 3",
   "language": "python",
   "name": "python3"
  },
  "language_info": {
   "codemirror_mode": {
    "name": "ipython",
    "version": 3
   },
   "file_extension": ".py",
   "mimetype": "text/x-python",
   "name": "python",
   "nbconvert_exporter": "python",
   "pygments_lexer": "ipython3",
   "version": "3.12.2"
  }
 },
 "nbformat": 4,
 "nbformat_minor": 2
}
