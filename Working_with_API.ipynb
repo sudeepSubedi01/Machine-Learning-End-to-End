{
 "cells": [
  {
   "cell_type": "code",
   "execution_count": 2,
   "metadata": {},
   "outputs": [],
   "source": [
    "# The movie database api\n",
    "#  https://api.themoviedb.org/3/movie/top_rated?api_key=8777d9c586942ee574e65ea12273a4bc&language=en-US&page=5"
   ]
  },
  {
   "cell_type": "code",
   "execution_count": 4,
   "metadata": {},
   "outputs": [],
   "source": [
    "import pandas as pd\n",
    "import requests"
   ]
  },
  {
   "cell_type": "code",
   "execution_count": 6,
   "metadata": {},
   "outputs": [],
   "source": [
    "response = requests.get('https://api.themoviedb.org/3/movie/top_rated?api_key=8777d9c586942ee574e65ea12273a4bc&language=en-US&page=5')"
   ]
  },
  {
   "cell_type": "code",
   "execution_count": 15,
   "metadata": {},
   "outputs": [
    {
     "data": {
      "text/html": [
       "<div>\n",
       "<style scoped>\n",
       "    .dataframe tbody tr th:only-of-type {\n",
       "        vertical-align: middle;\n",
       "    }\n",
       "\n",
       "    .dataframe tbody tr th {\n",
       "        vertical-align: top;\n",
       "    }\n",
       "\n",
       "    .dataframe thead th {\n",
       "        text-align: right;\n",
       "    }\n",
       "</style>\n",
       "<table border=\"1\" class=\"dataframe\">\n",
       "  <thead>\n",
       "    <tr style=\"text-align: right;\">\n",
       "      <th></th>\n",
       "      <th>id</th>\n",
       "      <th>title</th>\n",
       "      <th>overview</th>\n",
       "      <th>release_date</th>\n",
       "    </tr>\n",
       "  </thead>\n",
       "  <tbody>\n",
       "    <tr>\n",
       "      <th>0</th>\n",
       "      <td>10376</td>\n",
       "      <td>The Legend of 1900</td>\n",
       "      <td>The story of a virtuoso piano player who lives...</td>\n",
       "      <td>1998-10-28</td>\n",
       "    </tr>\n",
       "    <tr>\n",
       "      <th>1</th>\n",
       "      <td>29259</td>\n",
       "      <td>Le Trou</td>\n",
       "      <td>Four prison inmates have been hatching a plan ...</td>\n",
       "      <td>1960-03-18</td>\n",
       "    </tr>\n",
       "    <tr>\n",
       "      <th>2</th>\n",
       "      <td>995133</td>\n",
       "      <td>The Boy, the Mole, the Fox and the Horse</td>\n",
       "      <td>The unlikely friendship of a boy, a mole, a fo...</td>\n",
       "      <td>2022-12-25</td>\n",
       "    </tr>\n",
       "    <tr>\n",
       "      <th>3</th>\n",
       "      <td>652837</td>\n",
       "      <td>Josee, the Tiger and the Fish</td>\n",
       "      <td>With dreams of diving abroad, Tsuneo gets a jo...</td>\n",
       "      <td>2020-12-25</td>\n",
       "    </tr>\n",
       "    <tr>\n",
       "      <th>4</th>\n",
       "      <td>447362</td>\n",
       "      <td>Life in a Year</td>\n",
       "      <td>A 17 year old finds out that his girlfriend is...</td>\n",
       "      <td>2020-11-27</td>\n",
       "    </tr>\n",
       "  </tbody>\n",
       "</table>\n",
       "</div>"
      ],
      "text/plain": [
       "       id                                     title  \\\n",
       "0   10376                        The Legend of 1900   \n",
       "1   29259                                   Le Trou   \n",
       "2  995133  The Boy, the Mole, the Fox and the Horse   \n",
       "3  652837             Josee, the Tiger and the Fish   \n",
       "4  447362                            Life in a Year   \n",
       "\n",
       "                                            overview release_date  \n",
       "0  The story of a virtuoso piano player who lives...   1998-10-28  \n",
       "1  Four prison inmates have been hatching a plan ...   1960-03-18  \n",
       "2  The unlikely friendship of a boy, a mole, a fo...   2022-12-25  \n",
       "3  With dreams of diving abroad, Tsuneo gets a jo...   2020-12-25  \n",
       "4  A 17 year old finds out that his girlfriend is...   2020-11-27  "
      ]
     },
     "execution_count": 15,
     "metadata": {},
     "output_type": "execute_result"
    }
   ],
   "source": [
    "df = pd.DataFrame(response.json()['results'])[['id','title','overview','release_date']]\n",
    "df.head()"
   ]
  },
  {
   "cell_type": "code",
   "execution_count": 20,
   "metadata": {},
   "outputs": [
    {
     "name": "stdout",
     "output_type": "stream",
     "text": [
      "          id                     title  \\\n",
      "0        278  The Shawshank Redemption   \n",
      "1        238             The Godfather   \n",
      "2        240     The Godfather Part II   \n",
      "3        424          Schindler's List   \n",
      "4        389              12 Angry Men   \n",
      "...      ...                       ...   \n",
      "8555  960258                Shark Bait   \n",
      "8556  628917        An American Pickle   \n",
      "8557   15566       Surviving Christmas   \n",
      "8558  312831                The Hallow   \n",
      "8559   36599                Prom Night   \n",
      "\n",
      "                                               overview release_date  \n",
      "0     Imprisoned in the 1940s for the double murder ...   1994-09-23  \n",
      "1     Spanning the years 1945 to 1955, a chronicle o...   1972-03-14  \n",
      "2     In the continuing saga of the Corleone crime f...   1974-12-20  \n",
      "3     The true story of how businessman Oskar Schind...   1993-12-15  \n",
      "4     The defense and the prosecution have rested an...   1957-04-10  \n",
      "...                                                 ...          ...  \n",
      "8555  A group of friends enjoying a weekend steal a ...   2022-05-13  \n",
      "8556  An immigrant worker at a pickle factory is acc...   2020-07-26  \n",
      "8557  Drew Latham is an executive leading an empty, ...   2004-09-21  \n",
      "8558  Deep within the darkness of secluded forest la...   2015-11-06  \n",
      "8559  At a high school senior prom, a masked killer ...   1980-07-18  \n",
      "\n",
      "[8560 rows x 4 columns]\n"
     ]
    }
   ],
   "source": [
    "dff = pd.DataFrame()\n",
    "data_frames = []\n",
    "for i in range(1,429):\n",
    "  response = requests.get(f'https://api.themoviedb.org/3/movie/top_rated?api_key=8777d9c586942ee574e65ea12273a4bc&language=en-US&page={i}')\n",
    "  temp_dff = pd.DataFrame(response.json()['results'])[['id','title','overview','release_date']]\n",
    "  data_frames.append(temp_dff) \n",
    "dff = pd.concat(data_frames, ignore_index=True)\n",
    "print(dff)"
   ]
  },
  {
   "cell_type": "code",
   "execution_count": 21,
   "metadata": {},
   "outputs": [],
   "source": [
    "dff.to_csv('topratedmovies.csv')"
   ]
  }
 ],
 "metadata": {
  "kernelspec": {
   "display_name": "Python 3",
   "language": "python",
   "name": "python3"
  },
  "language_info": {
   "codemirror_mode": {
    "name": "ipython",
    "version": 3
   },
   "file_extension": ".py",
   "mimetype": "text/x-python",
   "name": "python",
   "nbconvert_exporter": "python",
   "pygments_lexer": "ipython3",
   "version": "3.12.2"
  }
 },
 "nbformat": 4,
 "nbformat_minor": 2
}
