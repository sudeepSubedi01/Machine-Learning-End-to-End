{
 "cells": [
  {
   "cell_type": "code",
   "execution_count": 155,
   "metadata": {},
   "outputs": [],
   "source": [
    "import numpy as np\n",
    "import pandas as pd"
   ]
  },
  {
   "cell_type": "code",
   "execution_count": 156,
   "metadata": {},
   "outputs": [],
   "source": [
    "from sklearn.datasets import load_diabetes\n",
    "X,y=load_diabetes(return_X_y=True)"
   ]
  },
  {
   "cell_type": "code",
   "execution_count": 157,
   "metadata": {},
   "outputs": [
    {
     "name": "stdout",
     "output_type": "stream",
     "text": [
      "(353, 10)\n",
      "(353,)\n",
      "(89, 10)\n",
      "10\n"
     ]
    }
   ],
   "source": [
    "from sklearn.model_selection import train_test_split\n",
    "X_train,X_test,y_train,y_test = train_test_split(X,y,test_size=0.2,random_state=4)\n",
    "print(X_train.shape)\n",
    "print(y_train.shape)\n",
    "print(X_test.shape)\n",
    "print(X_train.shape[1])"
   ]
  },
  {
   "cell_type": "markdown",
   "metadata": {},
   "source": [
    "# SDG Regressor that uses Gradient Descent"
   ]
  },
  {
   "cell_type": "code",
   "execution_count": 158,
   "metadata": {},
   "outputs": [
    {
     "name": "stdout",
     "output_type": "stream",
     "text": [
      "r2 score:  0.4117899109555999\n",
      "[172.73644681]\n",
      "[  51.7343362  -161.13679826  372.25753417  270.59119831   -5.31340755\n",
      "  -58.80347739 -164.74315434  135.42251258  329.42737185  100.93697778]\n"
     ]
    }
   ],
   "source": [
    "from sklearn.linear_model import SGDRegressor\n",
    "from sklearn.metrics import r2_score\n",
    "\n",
    "reg = SGDRegressor(penalty='l2', max_iter=500, eta0=0.1, learning_rate='constant',alpha=0.001)\n",
    "reg.fit(X_train,y_train)\n",
    "y_pred = reg.predict(X_test)\n",
    "print('r2 score: ',r2_score(y_test,y_pred))\n",
    "print(reg.intercept_)\n",
    "print(reg.coef_)"
   ]
  },
  {
   "cell_type": "markdown",
   "metadata": {},
   "source": [
    "# Creating own class for Ridge Regression using gradient descent"
   ]
  },
  {
   "cell_type": "code",
   "execution_count": 159,
   "metadata": {},
   "outputs": [],
   "source": [
    "class RidgeGD:\n",
    "  def __init__(self):\n",
    "    self.intercept_ = None\n",
    "    self.coef_ = None\n",
    "    self.epoch = 500\n",
    "    self.alpha = 0.001\n",
    "    self.lr = 0.005\n",
    "\n",
    "  def fit(self,X_train,y_train):\n",
    "    X_train = np.insert(X_train,0,1,axis=1)\n",
    "    # print(X_train.shape)\n",
    "    self.coef_ = np.ones((X_train.shape[1], 1))\n",
    "    self.coef_[0] = 0\n",
    "    # print(self.coef_.shape)\n",
    "    for i in range(self.epoch):\n",
    "      # np.dot(X_train.T,X_train).dot(self.coef_)\n",
    "      der = np.dot(np.dot(X_train.T,X_train),self.coef_.ravel()) - np.dot(X_train.T,y_train).ravel() + self.alpha * self.coef_.ravel()\n",
    "      #(11,1)      (11,353) (353,11)      (11,1)                   (11,353)  (353,1)                 (11,1)\n",
    "      self.coef_ = self.coef_ .ravel()- self.lr * der.ravel()\n",
    "      \n",
    "      # print((np.dot(np.dot(X_train.T,X_train),self.coef_)).shape)\n",
    "      # print((np.dot(X_train.T,y_train)).shape)\n",
    "      # print((self.coef_).shape)\n",
    "      # print((self.alpha * self.coef_).shape)\n",
    "      # print(der.shape)\n",
    "\n",
    "    self.intercept_ = self.coef_[0]\n",
    "    self.coef_ = self.coef_[1:]\n",
    "    print(self.intercept_)\n",
    "    print(self.coef_)\n",
    "  def predict(self,X_test):\n",
    "    return self.intercept_ + np.dot(X_test ,self.coef_)"
   ]
  },
  {
   "cell_type": "code",
   "execution_count": 160,
   "metadata": {},
   "outputs": [
    {
     "name": "stdout",
     "output_type": "stream",
     "text": [
      "150.86975316713466\n",
      "[  46.65050914 -221.3750037   452.12080647  325.54248128  -29.09464178\n",
      "  -96.47517735 -190.90017011  146.32900372  400.80267299   95.09048094]\n"
     ]
    },
    {
     "data": {
      "text/plain": [
       "0.4738018280260913"
      ]
     },
     "execution_count": 160,
     "metadata": {},
     "output_type": "execute_result"
    }
   ],
   "source": [
    "rgd = RidgeGD()\n",
    "rgd.fit(X_train,y_train)\n",
    "y_pred = rgd.predict(X_test)\n",
    "r2_score(y_test,y_pred)"
   ]
  },
  {
   "cell_type": "code",
   "execution_count": 161,
   "metadata": {},
   "outputs": [
    {
     "data": {
      "text/plain": [
       "(10,)"
      ]
     },
     "execution_count": 161,
     "metadata": {},
     "output_type": "execute_result"
    }
   ],
   "source": [
    "# X_train = np.insert(X_train,0,1,axis=1)\n",
    "# X_train[0]\n",
    "# coef = np.ones((X_train.shape[1], 1))\n",
    "# coef[0] = 0\n",
    "# coef.shape\n",
    "(2 * np.dot(X_train.T,y_train)).shape"
   ]
  },
  {
   "cell_type": "code",
   "execution_count": null,
   "metadata": {},
   "outputs": [],
   "source": []
  },
  {
   "cell_type": "code",
   "execution_count": null,
   "metadata": {},
   "outputs": [],
   "source": []
  },
  {
   "cell_type": "code",
   "execution_count": null,
   "metadata": {},
   "outputs": [],
   "source": []
  }
 ],
 "metadata": {
  "kernelspec": {
   "display_name": "Python 3",
   "language": "python",
   "name": "python3"
  },
  "language_info": {
   "codemirror_mode": {
    "name": "ipython",
    "version": 3
   },
   "file_extension": ".py",
   "mimetype": "text/x-python",
   "name": "python",
   "nbconvert_exporter": "python",
   "pygments_lexer": "ipython3",
   "version": "3.12.2"
  }
 },
 "nbformat": 4,
 "nbformat_minor": 2
}
