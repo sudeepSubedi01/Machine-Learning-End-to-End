{
 "cells": [
  {
   "cell_type": "code",
   "execution_count": 165,
   "metadata": {},
   "outputs": [],
   "source": [
    "import pandas as pd\n",
    "import numpy as np"
   ]
  },
  {
   "cell_type": "code",
   "execution_count": 166,
   "metadata": {},
   "outputs": [
    {
     "data": {
      "text/plain": [
       "(442, 10)"
      ]
     },
     "execution_count": 166,
     "metadata": {},
     "output_type": "execute_result"
    }
   ],
   "source": [
    "from sklearn.datasets import load_diabetes\n",
    "X,y = load_diabetes(return_X_y=True)\n",
    "X.shape"
   ]
  },
  {
   "cell_type": "code",
   "execution_count": 167,
   "metadata": {},
   "outputs": [
    {
     "data": {
      "text/plain": [
       "(353,)"
      ]
     },
     "execution_count": 167,
     "metadata": {},
     "output_type": "execute_result"
    }
   ],
   "source": [
    "from sklearn.model_selection import train_test_split\n",
    "X_train,X_test,y_train,y_test = train_test_split(X,y, test_size=0.2, random_state = 2)\n",
    "y_train.shape"
   ]
  },
  {
   "cell_type": "code",
   "execution_count": 168,
   "metadata": {},
   "outputs": [
    {
     "name": "stdout",
     "output_type": "stream",
     "text": [
      "[-0.06000263 -0.04464164  0.04445121 -0.01944183 -0.00982468 -0.00757685\n",
      "  0.02286863 -0.03949338 -0.02712902 -0.00936191]\n",
      "129.0\n",
      "(10,)\n",
      "()\n",
      "(89,)\n"
     ]
    }
   ],
   "source": [
    "print(X_train[9])\n",
    "print(y_train[9])\n",
    "\n",
    "print(X_train[9].shape)\n",
    "print(y_train[9].shape)\n",
    "\n",
    "print(y_test.shape)"
   ]
  },
  {
   "cell_type": "markdown",
   "metadata": {},
   "source": [
    "# Linear Reg model"
   ]
  },
  {
   "cell_type": "code",
   "execution_count": 169,
   "metadata": {},
   "outputs": [],
   "source": [
    "from sklearn.linear_model import LinearRegression\n",
    "reg = LinearRegression()\n",
    "reg.fit(X_train,y_train)\n",
    "y_pred = reg.predict(X_test)"
   ]
  },
  {
   "cell_type": "code",
   "execution_count": 170,
   "metadata": {},
   "outputs": [
    {
     "data": {
      "text/plain": [
       "0.4399338661568968"
      ]
     },
     "execution_count": 170,
     "metadata": {},
     "output_type": "execute_result"
    }
   ],
   "source": [
    "from sklearn.metrics import r2_score\n",
    "r2 = r2_score(y_test,y_pred)\n",
    "r2"
   ]
  },
  {
   "cell_type": "code",
   "execution_count": 171,
   "metadata": {},
   "outputs": [
    {
     "name": "stdout",
     "output_type": "stream",
     "text": [
      "151.88331005254167\n",
      "[  -9.15865318 -205.45432163  516.69374454  340.61999905 -895.5520019\n",
      "  561.22067904  153.89310954  126.73139688  861.12700152   52.42112238]\n"
     ]
    }
   ],
   "source": [
    "print(reg.intercept_)\n",
    "print(reg.coef_)"
   ]
  },
  {
   "cell_type": "markdown",
   "metadata": {},
   "source": [
    "# SGD class"
   ]
  },
  {
   "cell_type": "code",
   "execution_count": 172,
   "metadata": {},
   "outputs": [],
   "source": [
    "class SGDRegressor:\n",
    "  def __init__(self,learning_rate=0.01, epochs=100):\n",
    "    self.coef_ = None\n",
    "    self.intercept_ = None\n",
    "    self.lr = learning_rate\n",
    "    self.epochs = epochs\n",
    "\n",
    "  def fit(self,X_train,y_train):\n",
    "    self.intercept_ = 0\n",
    "    self.coef_ = np.ones(X_train.shape[1])\n",
    "\n",
    "    for i in range(self.epochs):\n",
    "      for j in range(X_train.shape[0]):\n",
    "        idx = np.random.randint(0,X_train.shape[0])\n",
    "\n",
    "        y_hat = np.dot(X_train[idx], self.coef_) + self.intercept_       # y_hat[2] = number          # X_train[9] = (10,1)\n",
    "        intercept_der = -2 * (y_train[idx] - y_hat)                      # y_train[2] = number        # intercept_der = number\n",
    "        self.intercept_ = self.intercept_ - (self.lr * intercept_der)    # self.intercept_ = number\n",
    "\n",
    "        y_hat = np.dot(X_train[idx], self.coef_) + self.intercept_       # y_hat[2] = number          # X_train[9] = (10,1)\n",
    "        coef_der = -2 * np.dot((y_train[idx] - y_hat) , X_train[idx])\n",
    "        self.coef_ = self.coef_ - (self.lr * coef_der)\n",
    "    \n",
    "    print(self.intercept_,self.coef_)\n",
    "  def predict(self,X_test):\n",
    "    return np.dot(X_test,self.coef_) + self.intercept_"
   ]
  },
  {
   "cell_type": "code",
   "execution_count": 173,
   "metadata": {},
   "outputs": [
    {
     "name": "stdout",
     "output_type": "stream",
     "text": [
      "139.5746097099798 [  57.53469448  -42.54899927  318.34521497  221.53490529   27.27770245\n",
      "   -8.91079544 -164.43844617  131.82698609  286.97834067  122.79352066]\n"
     ]
    },
    {
     "data": {
      "text/plain": [
       "(89,)"
      ]
     },
     "execution_count": 173,
     "metadata": {},
     "output_type": "execute_result"
    }
   ],
   "source": [
    "sgd = SGDRegressor(0.01,40)\n",
    "sgd.fit(X_train,y_train)\n",
    "y_pred = sgd.predict(X_test)\n",
    "y_pred.shape"
   ]
  },
  {
   "cell_type": "code",
   "execution_count": 174,
   "metadata": {},
   "outputs": [
    {
     "data": {
      "text/plain": [
       "0.39173355221640394"
      ]
     },
     "execution_count": 174,
     "metadata": {},
     "output_type": "execute_result"
    }
   ],
   "source": [
    "r2 = r2_score(y_test,y_pred)\n",
    "r2"
   ]
  },
  {
   "cell_type": "code",
   "execution_count": 175,
   "metadata": {},
   "outputs": [
    {
     "name": "stdout",
     "output_type": "stream",
     "text": [
      "153.22606510964883 [  61.94630078  -50.81200019  308.78847462  223.44941879   30.31266458\n",
      "   -7.42328704 -166.64437115  131.87282339  293.1118738   126.65934088]\n",
      "The time taken is 0.1637589931488037\n"
     ]
    }
   ],
   "source": [
    "import time\n",
    "start = time.time()\n",
    "sgd.fit(X_train,y_train)\n",
    "print(\"The time taken is\",time.time() - start)"
   ]
  },
  {
   "cell_type": "code",
   "execution_count": 176,
   "metadata": {},
   "outputs": [
    {
     "name": "stderr",
     "output_type": "stream",
     "text": [
      "C:\\Users\\Acer1\\AppData\\Roaming\\Python\\Python312\\site-packages\\sklearn\\linear_model\\_stochastic_gradient.py:1616: ConvergenceWarning: Maximum number of iteration reached before convergence. Consider increasing max_iter to improve the fit.\n",
      "  warnings.warn(\n"
     ]
    },
    {
     "data": {
      "text/plain": [
       "0.4316829880127132"
      ]
     },
     "execution_count": 176,
     "metadata": {},
     "output_type": "execute_result"
    }
   ],
   "source": [
    "from sklearn.linear_model import SGDRegressor\n",
    "reg = SGDRegressor(max_iter=100,learning_rate='constant',eta0=0.01)\n",
    "reg.fit(X_train,y_train)\n",
    "y_pred = reg.predict(X_test)\n",
    "r2_score(y_test,y_pred)"
   ]
  }
 ],
 "metadata": {
  "kernelspec": {
   "display_name": "Python 3",
   "language": "python",
   "name": "python3"
  },
  "language_info": {
   "codemirror_mode": {
    "name": "ipython",
    "version": 3
   },
   "file_extension": ".py",
   "mimetype": "text/x-python",
   "name": "python",
   "nbconvert_exporter": "python",
   "pygments_lexer": "ipython3",
   "version": "3.12.2"
  }
 },
 "nbformat": 4,
 "nbformat_minor": 2
}
